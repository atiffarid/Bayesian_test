{
 "cells": [
  {
   "cell_type": "code",
   "execution_count": 3,
   "metadata": {},
   "outputs": [
    {
     "name": "stdout",
     "output_type": "stream",
     "text": [
      "Total Probability:  0.08\n",
      "Tony's Posterior Probability:  0.375\n",
      "Jake's Posterior Probability:  0.625\n"
     ]
    }
   ],
   "source": [
    "def main():\n",
    "\n",
    "    prior = 0.5\n",
    "    tony = {\"Appearance\": 0.5, \"Intelligence\": 0.3, \"Personality\": 0.2}\n",
    "    jake = {\"Appearance\": 0.3, \"Intelligence\": 0.5, \"Personality\": 0.2}\n",
    "\n",
    "    total_probability = (tony[\"Intelligence\"] * tony[\"Personality\"] * prior) + (jake[\"Intelligence\"] * jake[\"Personality\"] * prior)\n",
    "\n",
    "    print(\"Total Probability: \", total_probability)\n",
    "\n",
    "    tony_posterior_probability = (tony[\"Intelligence\"] * tony[\"Personality\"] * prior) / total_probability\n",
    "    jake_posterior_probability = (jake[\"Intelligence\"] * jake[\"Personality\"] * prior) / total_probability\n",
    "\n",
    "    print(\"Tony's Posterior Probability: \", tony_posterior_probability)\n",
    "    print(\"Jake's Posterior Probability: \", jake_posterior_probability)\n",
    "\n",
    "\n",
    "if __name__==\"__main__\":\n",
    "    main()\n"
   ]
  },
  {
   "cell_type": "code",
   "execution_count": null,
   "metadata": {
    "collapsed": true
   },
   "outputs": [],
   "source": []
  }
 ],
 "metadata": {
  "kernelspec": {
   "display_name": "Python 3",
   "language": "python",
   "name": "python3"
  },
  "language_info": {
   "codemirror_mode": {
    "name": "ipython",
    "version": 3
   },
   "file_extension": ".py",
   "mimetype": "text/x-python",
   "name": "python",
   "nbconvert_exporter": "python",
   "pygments_lexer": "ipython3",
   "version": "3.6.3"
  }
 },
 "nbformat": 4,
 "nbformat_minor": 2
}
